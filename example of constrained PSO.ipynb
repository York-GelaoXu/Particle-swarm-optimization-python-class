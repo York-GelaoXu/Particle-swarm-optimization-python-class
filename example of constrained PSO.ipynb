{
 "cells": [
  {
   "cell_type": "code",
   "execution_count": 1,
   "metadata": {},
   "outputs": [],
   "source": [
    "import numpy as np\n",
    "import matplotlib.pyplot as plt\n",
    "from psoclasses.consoptipso import consadawpsoaeq\n",
    "from psoclasses.consoptipso import consadawpso\n",
    "#求解问题为极小形\n",
    "#必须将Aeq,A写成 AX-B<=0或AX-B=0的形式\n",
    "#the maxv parameter needs to be chosen carefully and affects the results very much\n",
    "# Too large leads to oscillation, too small is hard to find the optimal value"
   ]
  },
  {
   "cell_type": "code",
   "execution_count": 33,
   "metadata": {},
   "outputs": [
    {
     "name": "stdout",
     "output_type": "stream",
     "text": [
      "总耗时：0.2649576663970947s\n",
      "最优变量:[2.5 2.5]\n",
      "最优值是:12.500000\n",
      "总耗时：0.21554899215698242s\n",
      "最优变量:[2. 3.]\n",
      "最优值是:12.000000\n",
      "总耗时：0.2242145538330078s\n",
      "最优变量:[2.75 2.  ]\n",
      "最优值是:12.250000\n"
     ]
    },
    {
     "data": {
      "image/png": "[encoded data removed]",
      "text/plain": [
       "<Figure size 432x288 with 1 Axes>"
      ]
     },
     "metadata": {
      "needs_background": "light"
     },
     "output_type": "display_data"
    }
   ],
   "source": [
    "import time\n",
    "#如果求解最大值必须将函数乘以-1，之后令sovmax=True\n",
    "upper=[30,30]\n",
    "lower=[0,0]\n",
    "isints=[0,0]\n",
    "def aeqf(X):#不满足约束统一计算，返回的数组是0或满足\n",
    "    eq1=4*X[:,0]+2*X[:,1]-15\n",
    "    eq2=X[:,0]+2*X[:,1]-8\n",
    "    eq3=X[:,0]+X[:,1]-5\n",
    "    result=np.zeros(X.shape[0])\n",
    "    for iter in range(X.shape[0]):#如果满足约束,此时所有变量应小于等于0\n",
    "        if  eq1[iter]<=0 and eq2[iter]<=0 and eq3[iter]<=0:\n",
    "            result[iter]=np.zeros(1)\n",
    "        else:#如果满足约束\n",
    "            result[iter]=np.ones(1)\n",
    "    \n",
    "    return result\n",
    "dim=2\n",
    "psize=200\n",
    "iter_num=1000\n",
    "def fun1s(X):\n",
    "    z=3*X[:,0]+2*X[:,1]\n",
    "    return -1*z\n",
    "pso=consadawpsoaeq(fun1s,lower,upper,dim,psize,isints,aeqf,max_v=2,ifplot=True,sovmax=True)\n",
    "starttime=time.time()\n",
    "pso.fit()\n",
    "endtime=time.time()\n",
    "print(f\"总耗时：{endtime-starttime}s\")\n",
    "pso.printresult()\n",
    "isints=[1,0]#x is integer\n",
    "pso=consadawpsoaeq(fun1s,lower,upper,dim,psize,isints,aeqf,max_v=2,ifplot=True,sovmax=True)\n",
    "starttime=time.time()\n",
    "pso.fit()\n",
    "endtime=time.time()\n",
    "print(f\"总耗时：{endtime-starttime}s\")\n",
    "pso.printresult()\n",
    "isints=[0,1]#y is integer\n",
    "pso=consadawpsoaeq(fun1s,lower,upper,dim,psize,isints,aeqf,max_v=2,ifplot=True,sovmax=True)\n",
    "starttime=time.time()\n",
    "pso.fit()\n",
    "endtime=time.time()\n",
    "print(f\"总耗时：{endtime-starttime}s\")\n",
    "pso.printresult()"
   ]
  },
  {
   "cell_type": "code",
   "execution_count": 36,
   "metadata": {},
   "outputs": [
    {
     "name": "stdout",
     "output_type": "stream",
     "text": [
      "总耗时：0.13327336311340332s\n",
      "最优变量:[0.78867234 0.40825619]\n",
      "最优值是:263.895843\n"
     ]
    },
    {
     "data": {
      "image/png": "[encoded data removed]",
      "text/plain": [
       "<Figure size 432x288 with 1 Axes>"
      ]
     },
     "metadata": {
      "needs_background": "light"
     },
     "output_type": "display_data"
    }
   ],
   "source": [
    "import time\n",
    "#如果求解最大值必须将函数乘以-1，之后令sovmax=True\n",
    "def fun1s(X):\n",
    "    L=100\n",
    "    x1=X[:,0]\n",
    "    x2=X[:,1]\n",
    "    z=(2*np.sqrt(2)*x1+x2)*L\n",
    "    return z\n",
    "\n",
    "def aeqf(X):#不满足约束统一计算，返回的数组是0或满足\n",
    "    P=2\n",
    "    sigma=2\n",
    "    x1=X[:,0]\n",
    "    x2=X[:,1]\n",
    "    eq1=P*(np.sqrt(2)*x1+x2)/(np.sqrt(2)*(x1**2)+2*x1*x2)-sigma\n",
    "    eq2=P*(x2)/(np.sqrt(2)*(x1**2)+2*x1*x2)-sigma\n",
    "    eq3=P*(1)/(np.sqrt(2)*(x2)+x1)-sigma\n",
    "    result=np.zeros(X.shape[0])\n",
    "    for iter in range(X.shape[0]):#如果满足约束,此时所有变量应小于等于0\n",
    "        if  eq1[iter]<=0 and eq2[iter]<=0 and eq3[iter]<=0:\n",
    "            result[iter]=np.zeros(1)\n",
    "        else:#如果满足约束\n",
    "            result[iter]=np.ones(1)\n",
    "    \n",
    "    return result\n",
    "dim=2\n",
    "psize=100\n",
    "iter_num=1000\n",
    "upper=[1,1]\n",
    "lower=[0.001,0.001]\n",
    "isints=[0,0]\n",
    "pso=consadawpsoaeq(fun1s,lower,upper,dim,psize,isints,aeqf,max_v=1,ifplot=True,sovmax=False)\n",
    "starttime=time.time()\n",
    "pso.fit()\n",
    "endtime=time.time()\n",
    "print(f\"总耗时：{endtime-starttime}s\")\n",
    "pso.printresult()\n",
    "result=pso.getresult()#get x y\n",
    "resultx=result[0]\n",
    "#print(aeqf(resultx.reshape(1,resultx.shape[0])))"
   ]
  },
  {
   "cell_type": "code",
   "execution_count": 27,
   "metadata": {},
   "outputs": [
    {
     "name": "stdout",
     "output_type": "stream",
     "text": [
      "总耗时：0.6384057998657227s\n",
      "最优变量:[ 0.60110646  0.29712723 31.14541237 10.        ]\n",
      "最优值是:863.729823\n"
     ]
    },
    {
     "data": {
      "image/png": "[encoded data removed]",
      "text/plain": [
       "<Figure size 432x288 with 1 Axes>"
      ]
     },
     "metadata": {
      "needs_background": "light"
     },
     "output_type": "display_data"
    }
   ],
   "source": [
    "import time\n",
    "#如果求解最大值必须将函数乘以-1，之后令sovmax=True\n",
    "\n",
    "def fun1s(X):#minfx\n",
    "    z=0.6224*X[:,0]*X[:,2]*X[:,3]+1.7781*X[:,1]*(X[:,2]**2)+3.1661*(X[:,0]**2)*X[:,3]+19.84*(X[:,0]**2)*X[:,2]\n",
    "    return z\n",
    "def aeqf(X):#不满足约束统一计算，返回的数组是0或满足\n",
    "    eq1=-1*X[:,0]+0.0193*X[:,2]\n",
    "    eq2=-1*X[:,1]+0.00954*X[:,2]\n",
    "    eq3=-1*np.math.pi*(X[:,2]**2)-4*np.math.pi*(X[:,2]**3)/3+129600\n",
    "    eq4=X[:,3]-240\n",
    "    result=np.zeros(X.shape[0])\n",
    "    for iter in range(X.shape[0]):#如果满足约束,此时所有变量应小于等于0\n",
    "        #judge\n",
    "        if  eq1[iter]<=0 and eq2[iter]<=0 and eq3[iter]<=0 and eq4[iter]<=0:\n",
    "            result[iter]=np.zeros(1)#满足条件，对应位置=0\n",
    "        else:#如果满足约束\n",
    "            result[iter]=np.ones(1)\n",
    "    \n",
    "    return result\n",
    "dim=4\n",
    "upper=[100,100,100,100]\n",
    "lower=[0,0,10,10]\n",
    "isints=[0,0,0,0]\n",
    "psize=500\n",
    "iter_num=1000\n",
    "pso=consadawpsoaeq(fun1s,lower,upper,dim,psize,isints,aeqf,ifplot=True,sovmax=False)\n",
    "starttime=time.time()\n",
    "pso.fit()\n",
    "endtime=time.time()\n",
    "print(f\"总耗时：{endtime-starttime}s\")\n",
    "pso.printresult()\n",
    "result=pso.getresult()#get x y\n",
    "resultx=result[0]\n",
    "#如果输出不带惩罚，那必然满足条件，带惩罚会输出一个负的（或者正的）巨大值"
   ]
  },
  {
   "cell_type": "code",
   "execution_count": 9,
   "metadata": {},
   "outputs": [
    {
     "data": {
      "text/plain": [
       "array([0.])"
      ]
     },
     "execution_count": 9,
     "metadata": {},
     "output_type": "execute_result"
    }
   ],
   "source": [
    "aeqf(resultx.reshape(1,resultx.shape[0]))"
   ]
  },
  {
   "cell_type": "code",
   "execution_count": 8,
   "metadata": {},
   "outputs": [
    {
     "data": {
      "text/plain": [
       "array([863.72982303])"
      ]
     },
     "execution_count": 8,
     "metadata": {},
     "output_type": "execute_result"
    }
   ],
   "source": [
    "fun1s(resultx.reshape(1,resultx.shape[0]))"
   ]
  },
  {
   "cell_type": "code",
   "execution_count": 66,
   "metadata": {},
   "outputs": [
    {
     "name": "stdout",
     "output_type": "stream",
     "text": [
      "总耗时：1.2475001811981201s\n",
      "最优变量:[6.43571429 0.57428571 0.        ]\n",
      "最优值是:14.594286\n"
     ]
    },
    {
     "data": {
      "image/png": "[encoded data removed]",
      "text/plain": [
       "<Figure size 432x288 with 1 Axes>"
      ]
     },
     "metadata": {
      "needs_background": "light"
     },
     "output_type": "display_data"
    }
   ],
   "source": [
    "import time\n",
    "#如果求解最大值必须将函数乘以-1，之后令sovmax=True\n",
    "def fun1s(X):\n",
    "    z=2*X[:,0]+3*X[:,1]-5*X[:,2]\n",
    "    return -z\n",
    "def aeqf(X):#不满足约束统一计算，返回的数组是0或满足\n",
    "    eq1=-1*(2*X[:,0]-5*X[:,1]+X[:,2]-10)\n",
    "    eq2=X[:,0]+3*X[:,1]+X[:,2]-12\n",
    "    result=np.zeros(X.shape[0])\n",
    "    for iter in range(X.shape[0]):#如果满足约束,此时所有变量应小于等于0\n",
    "        if  eq1[iter]<=0 and eq2[iter]<=0:\n",
    "            result[iter]=np.zeros(1)\n",
    "        else:#如果满足约束\n",
    "            result[iter]=np.ones(1)\n",
    "    return result\n",
    "def af(X):#有等式约束\n",
    "    eq1=X[:,0]+X[:,1]+X[:,2]-7\n",
    "    result=np.zeros(X.shape[0])\n",
    "    tol=0.01\n",
    "    #tol为容忍度，不建议太小\n",
    "    for iter in range(X.shape[0]):#如果满足约束,此时所有变量应等于0\n",
    "        if  np.abs(eq1[iter])<=tol:\n",
    "            result[iter]=np.zeros(1)\n",
    "        else:#如果满足约束\n",
    "            result[iter]=np.ones(1)\n",
    "    return result\n",
    "dim=3\n",
    "upper=[20,20,20]\n",
    "lower=[0,0,0]\n",
    "isints=[0,0,0]\n",
    "psize=600\n",
    "iter_num=1000\n",
    "pso=consadawpso(fun1s,lower,upper,dim,psize,isints,aeqf,af,max_v=3,ifplot=True,sovmax=True)\n",
    "#如果采用这种方法，max_v需要设置到较大，目前这个问题maxv=2-3较优\n",
    "#If there is an equality constraint, maxv has to be large\n",
    "starttime=time.time()\n",
    "pso.fit()\n",
    "endtime=time.time()\n",
    "print(f\"总耗时：{endtime-starttime}s\")\n",
    "pso.printresult()\n",
    "result=pso.getresult()#get x y\n",
    "#best x[]\n",
    "#y[]\n",
    "#可以看到能求出近似解来。\n",
    "#多运行几次求解，14.59结果"
   ]
  }
 ],
 "metadata": {
  "kernelspec": {
   "display_name": "Python 3.9.7 ('base')",
   "language": "python",
   "name": "python3"
  },
  "language_info": {
   "codemirror_mode": {
    "name": "ipython",
    "version": 3
   },
   "file_extension": ".py",
   "mimetype": "text/x-python",
   "name": "python",
   "nbconvert_exporter": "python",
   "pygments_lexer": "ipython3",
   "version": "3.9.7"
  },
  "orig_nbformat": 4,
  "vscode": {
   "interpreter": {
    "hash": "16f5b46f222e2a3e8d4adbf7141cae37b71ed37616e60735fa5d1164a1bc3ada"
   }
  }
 },
 "nbformat": 4,
 "nbformat_minor": 2
}
